{
 "cells": [
  {
   "cell_type": "code",
   "execution_count": null,
   "metadata": {},
   "outputs": [],
   "source": [
    "def roman_to_int():\n",
    "    r = str(input(\"enter your roman number  \"))\n",
    "    sol = {'I':1,'V':5,'X':10,'L':50,'C':100,'D':500,'M':1000}\n",
    "    final_ans = 0\n",
    "    r = r.upper()\n",
    "    for i in r:        \n",
    "        final_ans = final_ans+sol.get(i)    \n",
    "    a = 0\n",
    "    b = 1\n",
    "    if len(r) > 1:\n",
    "        for i in range(len(r) - 1):\n",
    "            if sol.get(r[a]) < sol.get(r[b]):\n",
    "                final_ans = final_ans + (-2) * sol.get(r[a])\n",
    "            a = a+1\n",
    "            b = b+1\n",
    "    print(final_ans)\n",
    "roman_to_int()"
   ]
  }
 ],
 "metadata": {
  "kernelspec": {
   "display_name": "Python 3",
   "language": "python",
   "name": "python3"
  },
  "language_info": {
   "codemirror_mode": {
    "name": "ipython",
    "version": 3
   },
   "file_extension": ".py",
   "mimetype": "text/x-python",
   "name": "python",
   "nbconvert_exporter": "python",
   "pygments_lexer": "ipython3",
   "version": "3.7.6"
  }
 },
 "nbformat": 4,
 "nbformat_minor": 4
}
